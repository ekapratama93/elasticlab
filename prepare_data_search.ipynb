{
 "cells": [
  {
   "cell_type": "code",
   "execution_count": 1,
   "metadata": {},
   "outputs": [
    {
     "name": "stdout",
     "output_type": "stream",
     "text": [
      "Creating network \"elasticlab_default\" with the default driver\n",
      "Recreating elasticsearch ... \n",
      "\u001b[1B"
     ]
    }
   ],
   "source": [
    "!docker-compose up -d"
   ]
  },
  {
   "cell_type": "code",
   "execution_count": 2,
   "metadata": {},
   "outputs": [
    {
     "name": "stdout",
     "output_type": "stream",
     "text": [
      "Requirement already satisfied: elasticsearch in /usr/local/lib/python3.7/site-packages (6.3.1)\n",
      "Requirement already satisfied: urllib3>=1.21.1 in /usr/local/lib/python3.7/site-packages (from elasticsearch) (1.23)\n",
      "Collecting tqdm\n",
      "\u001b[?25l  Downloading https://files.pythonhosted.org/packages/6c/4b/c38b5144cf167c4f52288517436ccafefe9dc01b8d1c190e18a6b154cd4a/tqdm-4.31.1-py2.py3-none-any.whl (48kB)\n",
      "\u001b[K    100% |████████████████████████████████| 51kB 1.1MB/s \n",
      "\u001b[?25hInstalling collected packages: tqdm\n",
      "Successfully installed tqdm-4.31.1\n"
     ]
    }
   ],
   "source": [
    "!pip3 install elasticsearch\n",
    "!pip3 install tqdm"
   ]
  },
  {
   "cell_type": "code",
   "execution_count": 11,
   "metadata": {},
   "outputs": [],
   "source": [
    "### LOAD ARTICLE\n",
    "import json\n",
    "\n",
    "articles = []\n",
    "with open('source/ready_article.json') as f:\n",
    "    for line in f:\n",
    "        articles.append(json.loads(line))"
   ]
  },
  {
   "cell_type": "code",
   "execution_count": 12,
   "metadata": {},
   "outputs": [
    {
     "data": {
      "text/plain": [
       "{'acknowledged': True, 'shards_acknowledged': True, 'index': 'kurio_search'}"
      ]
     },
     "execution_count": 12,
     "metadata": {},
     "output_type": "execute_result"
    }
   ],
   "source": [
    "### CREATE MAPPING\n",
    "from elasticsearch import Elasticsearch\n",
    "\n",
    "es = Elasticsearch([\"127.0.0.1:9200\"], http_compress=True)\n",
    "\n",
    "settings = '''\n",
    "{\n",
    "\t\"settings\": {\n",
    "\t\t\"number_of_shards\": 5,\n",
    "\t\t\"analysis\": {\n",
    "\t\t\t\"analyzer\": {\n",
    "\t\t\t\t\"search_analyzer\": {\n",
    "                    \"filter\": [\"lowercase\", \"trim\", \"apostrophe\", \"stopwords\", \"stemmer_id\", \"stemmer_en\"],\n",
    "\t\t\t\t\t\"char_filter\": [\"html_strip\", \"url_pattern\"],\n",
    "\t\t\t\t\t\"type\": \"custom\",\n",
    "\t\t\t\t\t\"tokenizer\": \"search_tokenizer\"\n",
    "\t\t\t\t}\n",
    "\t\t\t},\n",
    "\t\t\t\"tokenizer\": {\n",
    "\t\t\t\t\"search_tokenizer\": {\n",
    "\t\t\t\t\t\"type\": \"standard\",\n",
    "\t\t\t\t\t\"max_token_length\": \"45\"\n",
    "\t\t\t\t}\n",
    "\t\t\t},\n",
    "\t\t\t\"filter\": {\n",
    "\t\t\t\t\"stemmer_en\": {\n",
    "\t\t\t\t\t\"name\": \"english\",\n",
    "\t\t\t\t\t\"type\": \"stemmer\"\n",
    "\t\t\t\t},\n",
    "\t\t\t\t\"stemmer_id\": {\n",
    "\t\t\t\t\t\"name\": \"indonesian\",\n",
    "\t\t\t\t\t\"type\": \"stemmer\"\n",
    "\t\t\t\t},\n",
    "\t\t\t\t\"stopwords\": {\n",
    "\t\t\t\t\t\"type\": \"stop\",\n",
    "\t\t\t\t\t\"stopwords\": [\"_indonesian_\", \"_english_\"]\n",
    "\t\t\t\t}\n",
    "\t\t\t},\n",
    "\t\t\t\"char_filter\": {\n",
    "\t\t\t\t\"url_pattern\": {\n",
    "\t\t\t\t\t\"pattern\": \"((https?|ftp|gopher|telnet|file|Unsure|http):((/)|())+[wd:#@%/;$()~_?+-=.&]*)\",\n",
    "\t\t\t\t\t\"type\": \"pattern_replace\",\n",
    "\t\t\t\t\t\"replacement\": \" \"\n",
    "\t\t\t\t}\n",
    "\t\t\t}\n",
    "\t\t}\n",
    "\t},\n",
    "\t\"mappings\": {\n",
    "\t\t\"document\": {\n",
    "\t\t\t\"properties\": {\n",
    "                \"id\": {\n",
    "                    \"type\": \"keyword\"\n",
    "                },\n",
    "                \"type\": {\n",
    "                    \"type\": \"keyword\"\n",
    "                },\n",
    "                \"title\": {\n",
    "                    \"type\": \"text\",\n",
    "                    \"analyzer\": \"search_analyzer\",\n",
    "                    \"term_vector\": \"yes\"\n",
    "                },\n",
    "                \"text\": {\n",
    "                    \"type\": \"text\",\n",
    "                    \"analyzer\": \"search_analyzer\",\n",
    "                    \"term_vector\": \"yes\"\n",
    "                },\n",
    "                \"data\": {\n",
    "                    \"type\": \"text\",\n",
    "\t\t\t\t\t\"index\": false\n",
    "                },\n",
    "                \"create_time\":{\n",
    "                    \"type\": \"date\"\n",
    "                },\n",
    "                \"update_time\":{\n",
    "                    \"type\": \"date\"\n",
    "                }\n",
    "\t\t\t}\n",
    "\t\t}\n",
    "\t}\n",
    "}\n",
    "'''\n",
    "\n",
    "es.indices.create(index='kurio_doc', ignore=400, body=settings)\n",
    "es.indices.put_alias(index='kurio_doc',name=)\n"
   ]
  },
  {
   "cell_type": "code",
   "execution_count": 13,
   "metadata": {},
   "outputs": [
    {
     "name": "stderr",
     "output_type": "stream",
     "text": [
      "id : 11258917 is created: 100%|██████████| 5703/5703 [02:38<00:00, 36.08it/s]\n"
     ]
    }
   ],
   "source": [
    "###INSERT DOCUMENTS\n",
    "from tqdm import tqdm\n",
    "\n",
    "articles_bar = tqdm(articles)\n",
    "for article in articles_bar:\n",
    "    res = es.index(index=\"kurio_search\", doc_type='article', id=article['id'], body=article)\n",
    "    articles_bar.set_description(\"id : {arg1} is {arg2}\".format(arg1=article['id'],arg2=res['result']))\n"
   ]
  },
  {
   "cell_type": "code",
   "execution_count": null,
   "metadata": {},
   "outputs": [],
   "source": []
  }
 ],
 "metadata": {
  "kernelspec": {
   "display_name": "Python 3",
   "language": "python",
   "name": "python3"
  },
  "language_info": {
   "codemirror_mode": {
    "name": "ipython",
    "version": 3
   },
   "file_extension": ".py",
   "mimetype": "text/x-python",
   "name": "python",
   "nbconvert_exporter": "python",
   "pygments_lexer": "ipython3",
   "version": "3.7.3"
  }
 },
 "nbformat": 4,
 "nbformat_minor": 2
}
